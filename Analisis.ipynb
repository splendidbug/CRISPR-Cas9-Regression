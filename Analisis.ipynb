{
 "cells": [
  {
   "cell_type": "markdown",
   "metadata": {},
   "source": [
    "# Machine Learning in improving the precision of CRISPR-Cas9"
   ]
  },
  {
   "cell_type": "code",
   "execution_count": 1,
   "metadata": {
    "id": "ES_Wn1htzc4X"
   },
   "outputs": [],
   "source": [
    "import pandas as pd"
   ]
  },
  {
   "cell_type": "markdown",
   "metadata": {
    "id": "9wPA6YxR1Dkc"
   },
   "source": [
    "### Loading database"
   ]
  },
  {
   "cell_type": "code",
   "execution_count": 2,
   "metadata": {
    "colab": {
     "base_uri": "https://localhost:8080/",
     "height": 353
    },
    "id": "ZoGXteGyz0dl",
    "outputId": "3adab570-4b69-4c93-f721-5972caa5b33d",
    "scrolled": true
   },
   "outputs": [
    {
     "data": {
      "text/html": [
       "<div>\n",
       "<style scoped>\n",
       "    .dataframe tbody tr th:only-of-type {\n",
       "        vertical-align: middle;\n",
       "    }\n",
       "\n",
       "    .dataframe tbody tr th {\n",
       "        vertical-align: top;\n",
       "    }\n",
       "\n",
       "    .dataframe thead th {\n",
       "        text-align: right;\n",
       "    }\n",
       "</style>\n",
       "<table border=\"1\" class=\"dataframe\">\n",
       "  <thead>\n",
       "    <tr style=\"text-align: right;\">\n",
       "      <th></th>\n",
       "      <th>23-nt sequence</th>\n",
       "      <th>30-nt sequence</th>\n",
       "      <th>modFreq</th>\n",
       "    </tr>\n",
       "  </thead>\n",
       "  <tbody>\n",
       "    <tr>\n",
       "      <th>0</th>\n",
       "      <td>GGCTGCTTTACCCGCTGTGGGGG</td>\n",
       "      <td>TGGAGGCTGCTTTACCCGCTGTGGGGGCGC</td>\n",
       "      <td>0.874864</td>\n",
       "    </tr>\n",
       "    <tr>\n",
       "      <th>1</th>\n",
       "      <td>TCCGGGTTGGCCTTCCACTGGGG</td>\n",
       "      <td>CGTCTCCGGGTTGGCCTTCCACTGGGGCAG</td>\n",
       "      <td>0.871393</td>\n",
       "    </tr>\n",
       "    <tr>\n",
       "      <th>2</th>\n",
       "      <td>CAGCATCCTTCGGAAAGCTCTGG</td>\n",
       "      <td>CCCTCAGCATCCTTCGGAAAGCTCTGGACA</td>\n",
       "      <td>0.860592</td>\n",
       "    </tr>\n",
       "    <tr>\n",
       "      <th>3</th>\n",
       "      <td>CGGTAGAAGCAGGTAGTCTGGGG</td>\n",
       "      <td>GGCGCGGTAGAAGCAGGTAGTCTGGGGATA</td>\n",
       "      <td>0.802276</td>\n",
       "    </tr>\n",
       "    <tr>\n",
       "      <th>4</th>\n",
       "      <td>CATCCCGCTGCCCCAGTGGAAGG</td>\n",
       "      <td>GTGTCATCCCGCTGCCCCAGTGGAAGGCCA</td>\n",
       "      <td>0.796638</td>\n",
       "    </tr>\n",
       "  </tbody>\n",
       "</table>\n",
       "</div>"
      ],
      "text/plain": [
       "            23-nt sequence                  30-nt sequence   modFreq\n",
       "0  GGCTGCTTTACCCGCTGTGGGGG  TGGAGGCTGCTTTACCCGCTGTGGGGGCGC  0.874864\n",
       "1  TCCGGGTTGGCCTTCCACTGGGG  CGTCTCCGGGTTGGCCTTCCACTGGGGCAG  0.871393\n",
       "2  CAGCATCCTTCGGAAAGCTCTGG  CCCTCAGCATCCTTCGGAAAGCTCTGGACA  0.860592\n",
       "3  CGGTAGAAGCAGGTAGTCTGGGG  GGCGCGGTAGAAGCAGGTAGTCTGGGGATA  0.802276\n",
       "4  CATCCCGCTGCCCCAGTGGAAGG  GTGTCATCCCGCTGCCCCAGTGGAAGGCCA  0.796638"
      ]
     },
     "execution_count": 2,
     "metadata": {},
     "output_type": "execute_result"
    }
   ],
   "source": [
    "df = pd.read_csv(\"Data.csv\")\n",
    "df.head()"
   ]
  },
  {
   "cell_type": "markdown",
   "metadata": {
    "id": "LNKPABXE1JHp"
   },
   "source": [
    "### Dropping column \"30-nt sequence\" as we won't be using it"
   ]
  },
  {
   "cell_type": "code",
   "execution_count": 3,
   "metadata": {
    "colab": {
     "base_uri": "https://localhost:8080/",
     "height": 206
    },
    "id": "jk__-Bb_0R1I",
    "outputId": "7e8fdb35-73b1-4042-91c9-55fe951f00e9"
   },
   "outputs": [
    {
     "data": {
      "text/html": [
       "<div>\n",
       "<style scoped>\n",
       "    .dataframe tbody tr th:only-of-type {\n",
       "        vertical-align: middle;\n",
       "    }\n",
       "\n",
       "    .dataframe tbody tr th {\n",
       "        vertical-align: top;\n",
       "    }\n",
       "\n",
       "    .dataframe thead th {\n",
       "        text-align: right;\n",
       "    }\n",
       "</style>\n",
       "<table border=\"1\" class=\"dataframe\">\n",
       "  <thead>\n",
       "    <tr style=\"text-align: right;\">\n",
       "      <th></th>\n",
       "      <th>23-nt sequence</th>\n",
       "      <th>modFreq</th>\n",
       "    </tr>\n",
       "  </thead>\n",
       "  <tbody>\n",
       "    <tr>\n",
       "      <th>0</th>\n",
       "      <td>GGCTGCTTTACCCGCTGTGGGGG</td>\n",
       "      <td>0.874864</td>\n",
       "    </tr>\n",
       "    <tr>\n",
       "      <th>1</th>\n",
       "      <td>TCCGGGTTGGCCTTCCACTGGGG</td>\n",
       "      <td>0.871393</td>\n",
       "    </tr>\n",
       "    <tr>\n",
       "      <th>2</th>\n",
       "      <td>CAGCATCCTTCGGAAAGCTCTGG</td>\n",
       "      <td>0.860592</td>\n",
       "    </tr>\n",
       "    <tr>\n",
       "      <th>3</th>\n",
       "      <td>CGGTAGAAGCAGGTAGTCTGGGG</td>\n",
       "      <td>0.802276</td>\n",
       "    </tr>\n",
       "    <tr>\n",
       "      <th>4</th>\n",
       "      <td>CATCCCGCTGCCCCAGTGGAAGG</td>\n",
       "      <td>0.796638</td>\n",
       "    </tr>\n",
       "  </tbody>\n",
       "</table>\n",
       "</div>"
      ],
      "text/plain": [
       "            23-nt sequence   modFreq\n",
       "0  GGCTGCTTTACCCGCTGTGGGGG  0.874864\n",
       "1  TCCGGGTTGGCCTTCCACTGGGG  0.871393\n",
       "2  CAGCATCCTTCGGAAAGCTCTGG  0.860592\n",
       "3  CGGTAGAAGCAGGTAGTCTGGGG  0.802276\n",
       "4  CATCCCGCTGCCCCAGTGGAAGG  0.796638"
      ]
     },
     "execution_count": 3,
     "metadata": {},
     "output_type": "execute_result"
    }
   ],
   "source": [
    "df = df.drop(\"30-nt sequence\", axis = 1)\n",
    "df.head()"
   ]
  },
  {
   "cell_type": "code",
   "execution_count": 4,
   "metadata": {
    "colab": {
     "base_uri": "https://localhost:8080/"
    },
    "id": "vLHvYt180Zy8",
    "outputId": "d6eed609-6a9d-4ad5-a655-fadbdce7a437"
   },
   "outputs": [
    {
     "data": {
      "text/plain": [
       "['GGCTGCTTTACCCGCTGTGGGGG',\n",
       " 'TCCGGGTTGGCCTTCCACTGGGG',\n",
       " 'CAGCATCCTTCGGAAAGCTCTGG',\n",
       " 'CGGTAGAAGCAGGTAGTCTGGGG',\n",
       " 'CATCCCGCTGCCCCAGTGGAAGG']"
      ]
     },
     "execution_count": 4,
     "metadata": {},
     "output_type": "execute_result"
    }
   ],
   "source": [
    "lista = list(df[\"23-nt sequence\"])\n",
    "lista[0:5]"
   ]
  },
  {
   "cell_type": "markdown",
   "metadata": {
    "id": "7KeCWtfQ1yFc"
   },
   "source": [
    "### Now we build lists with the features that affect the efficiency of the gRNA."
   ]
  },
  {
   "cell_type": "code",
   "execution_count": 5,
   "metadata": {
    "colab": {
     "base_uri": "https://localhost:8080/"
    },
    "id": "JYEqsEYM1jwC",
    "outputId": "b1c5e87a-4528-4b57-cce6-27fda34b77f8"
   },
   "outputs": [
    {
     "data": {
      "text/plain": [
       "['G', 'G', 'C', 'G', 'A']"
      ]
     },
     "execution_count": 5,
     "metadata": {},
     "output_type": "execute_result"
    }
   ],
   "source": [
    "num_20 = []\n",
    "for i in range(len(lista)):\n",
    "  num_20.append(lista[i][19])\n",
    "\n",
    "num_20[0:5]"
   ]
  },
  {
   "cell_type": "markdown",
   "metadata": {
    "id": "qQQLLSkqnyqm"
   },
   "source": [
    "### We construct a list in which nucleotide G at position 20 encodes the number 1 and nucleotides A, C, or T encode the number 0"
   ]
  },
  {
   "cell_type": "code",
   "execution_count": 6,
   "metadata": {
    "colab": {
     "base_uri": "https://localhost:8080/"
    },
    "id": "Bkvlzvju2CaG",
    "outputId": "32285804-b7c7-4911-84de-cf51fe635c1c"
   },
   "outputs": [
    {
     "data": {
      "text/plain": [
       "[1, 1, 0, 1, 0]"
      ]
     },
     "execution_count": 6,
     "metadata": {},
     "output_type": "execute_result"
    }
   ],
   "source": [
    "num_20_bool =[]\n",
    "for i in num_20:\n",
    "  if i == \"G\":\n",
    "    num_20_bool.append(1)\n",
    "  else:\n",
    "    num_20_bool.append(0)\n",
    "\n",
    "num_20_bool[0:5]"
   ]
  },
  {
   "cell_type": "code",
   "execution_count": 7,
   "metadata": {
    "colab": {
     "base_uri": "https://localhost:8080/"
    },
    "id": "3oOICtdm3A1D",
    "outputId": "7a8d6133-0048-4032-be64-4d187008e339"
   },
   "outputs": [
    {
     "data": {
      "text/plain": [
       "['G', 'G', 'T', 'G', 'A']"
      ]
     },
     "execution_count": 7,
     "metadata": {},
     "output_type": "execute_result"
    }
   ],
   "source": [
    "num_21 = []\n",
    "for i in range(len(lista)):\n",
    "  num_21.append(lista[i][20])\n",
    "\n",
    "num_21[0:5]"
   ]
  },
  {
   "cell_type": "markdown",
   "metadata": {
    "id": "FUGzBc-9omvu"
   },
   "source": [
    "### We construct a list in which nucleotide C at position 21 encodes the number 1 and nucleotides A, G, and T encode the number 0."
   ]
  },
  {
   "cell_type": "code",
   "execution_count": 8,
   "metadata": {
    "colab": {
     "base_uri": "https://localhost:8080/"
    },
    "id": "Av0GWush3SG8",
    "outputId": "3303ccec-1d1a-4374-91cd-9b942c63a865"
   },
   "outputs": [
    {
     "data": {
      "text/plain": [
       "[0, 0, 0, 0, 0]"
      ]
     },
     "execution_count": 8,
     "metadata": {},
     "output_type": "execute_result"
    }
   ],
   "source": [
    "num_21_bool =[]\n",
    "for i in num_21:\n",
    "  if i == \"C\":\n",
    "    num_21_bool.append(1)\n",
    "  else:\n",
    "    num_21_bool.append(0)\n",
    "\n",
    "num_21_bool[0:5]"
   ]
  },
  {
   "cell_type": "code",
   "execution_count": 9,
   "metadata": {
    "colab": {
     "base_uri": "https://localhost:8080/"
    },
    "id": "Z-xaHF9X3bUa",
    "outputId": "b9018bc7-6301-43ef-bbc0-dcac34f7763a"
   },
   "outputs": [
    {
     "data": {
      "text/plain": [
       "[1, 1, 5, 5, 4]"
      ]
     },
     "execution_count": 9,
     "metadata": {},
     "output_type": "execute_result"
    }
   ],
   "source": [
    "num_a = []\n",
    "for i in lista:\n",
    "  num_a.append(i.count(\"A\"))\n",
    "\n",
    "num_a[0:5]"
   ]
  },
  {
   "cell_type": "code",
   "execution_count": 10,
   "metadata": {
    "colab": {
     "base_uri": "https://localhost:8080/"
    },
    "id": "AzDy-cf_3ubp",
    "outputId": "916de0c0-94f9-4ff7-ffa8-53071cb1d02a"
   },
   "outputs": [
    {
     "data": {
      "text/plain": [
       "5"
      ]
     },
     "execution_count": 10,
     "metadata": {},
     "output_type": "execute_result"
    }
   ],
   "source": [
    "lista[2].count(\"A\")"
   ]
  },
  {
   "cell_type": "markdown",
   "metadata": {
    "id": "qGzTANPU4SF8"
   },
   "source": [
    "### We calculate the percentage of G + C nucleotides in the target DNAs. This is known as the GC content."
   ]
  },
  {
   "cell_type": "code",
   "execution_count": 11,
   "metadata": {
    "colab": {
     "base_uri": "https://localhost:8080/"
    },
    "id": "zKCMWdYh3vzN",
    "outputId": "b6156c10-79b3-4c64-c769-fd0e3b09d37d"
   },
   "outputs": [
    {
     "data": {
      "text/plain": [
       "[0.6956521739130435,\n",
       " 0.6956521739130435,\n",
       " 0.5652173913043478,\n",
       " 0.6086956521739131,\n",
       " 0.6956521739130435]"
      ]
     },
     "execution_count": 11,
     "metadata": {},
     "output_type": "execute_result"
    }
   ],
   "source": [
    "por_g_mas_c = []\n",
    "for i in lista:\n",
    "  por_g_mas_c.append((i.count(\"G\") + i.count(\"C\")) / 23) \n",
    "\n",
    "por_g_mas_c[0:5]"
   ]
  },
  {
   "cell_type": "markdown",
   "metadata": {
    "id": "2qDdyLeH68t_"
   },
   "source": [
    "### A GC content between 40% and 60% is favorable, while a GC content above 80% or below 35% is inefficient."
   ]
  },
  {
   "cell_type": "code",
   "execution_count": 12,
   "metadata": {
    "colab": {
     "base_uri": "https://localhost:8080/"
    },
    "id": "FUxj4AIK6Pl9",
    "outputId": "27dcae3f-cf5d-44b9-c616-7eea4141fe7c"
   },
   "outputs": [
    {
     "data": {
      "text/plain": [
       "[0, 0, 1, 0, 0, 0]"
      ]
     },
     "execution_count": 12,
     "metadata": {},
     "output_type": "execute_result"
    }
   ],
   "source": [
    "con_gc =[]\n",
    "for i in por_g_mas_c:\n",
    "  if 0.40 < i < 0.60:\n",
    "    con_gc.append(1)\n",
    "  else:\n",
    "    con_gc.append(0)\n",
    "\n",
    "con_gc[0:6]"
   ]
  },
  {
   "cell_type": "code",
   "execution_count": 13,
   "metadata": {
    "colab": {
     "base_uri": "https://localhost:8080/"
    },
    "id": "IMwEqaIV6Pi0",
    "outputId": "1b521590-e9f4-4c9f-a955-8e7a251cc357"
   },
   "outputs": [
    {
     "data": {
      "text/plain": [
       "['T', 'C', 'C', 'C', 'G']"
      ]
     },
     "execution_count": 13,
     "metadata": {},
     "output_type": "execute_result"
    }
   ],
   "source": [
    "num_18 = []\n",
    "for i in range(len(lista)):\n",
    "  num_18.append(lista[i][17])\n",
    "\n",
    "num_18[0:5]\n"
   ]
  },
  {
   "cell_type": "markdown",
   "metadata": {
    "id": "EzSibRVFq_T8"
   },
   "source": [
    "### We construct a list in which nucleotide C at position 18 encodes the number 1 and nucleotides A, G, and T encode the number 0"
   ]
  },
  {
   "cell_type": "code",
   "execution_count": 14,
   "metadata": {
    "colab": {
     "base_uri": "https://localhost:8080/"
    },
    "id": "CYjy5gdi6PgO",
    "outputId": "1695b77d-66ed-473b-df18-f4ccb4194cd2"
   },
   "outputs": [
    {
     "data": {
      "text/plain": [
       "[0, 1, 1, 1, 0]"
      ]
     },
     "execution_count": 14,
     "metadata": {},
     "output_type": "execute_result"
    }
   ],
   "source": [
    "num_18_bool = []\n",
    "for i in num_18:\n",
    "   if i == \"C\":\n",
    "    num_18_bool.append(1)\n",
    "   else:\n",
    "    num_18_bool.append(0)\n",
    "\n",
    "num_18_bool[0:5]"
   ]
  },
  {
   "cell_type": "code",
   "execution_count": 15,
   "metadata": {
    "colab": {
     "base_uri": "https://localhost:8080/"
    },
    "id": "KKpzyLKq6Pdn",
    "outputId": "df77b4dd-3062-41f0-da89-4bd2c739c7b2"
   },
   "outputs": [
    {
     "data": {
      "text/plain": [
       "['T', 'C', 'A', 'G', 'G']"
      ]
     },
     "execution_count": 15,
     "metadata": {},
     "output_type": "execute_result"
    }
   ],
   "source": [
    "num_16 = []\n",
    "for i in range(len(lista)):\n",
    "  num_16.append(lista[i][15])\n",
    "\n",
    "num_16[0:5]"
   ]
  },
  {
   "cell_type": "code",
   "execution_count": 16,
   "metadata": {
    "colab": {
     "base_uri": "https://localhost:8080/"
    },
    "id": "XWfDv9vt6Paf",
    "outputId": "dc6ab6e7-8b50-472d-ea6a-46595ced75aa"
   },
   "outputs": [
    {
     "data": {
      "text/plain": [
       "[0, 1, 0, 0, 0]"
      ]
     },
     "execution_count": 16,
     "metadata": {},
     "output_type": "execute_result"
    }
   ],
   "source": [
    "num_16_bool = []\n",
    "for i in num_16:\n",
    "   if i == \"C\":\n",
    "    num_16_bool.append(1)\n",
    "   else:\n",
    "    num_16_bool.append(0)\n",
    "\n",
    "num_16_bool[0:5]"
   ]
  },
  {
   "cell_type": "code",
   "execution_count": 17,
   "metadata": {
    "colab": {
     "base_uri": "https://localhost:8080/",
     "height": 520
    },
    "id": "bPS6nqhU4cTX",
    "outputId": "9161b19c-90eb-4ffe-dbfa-364919ad0548"
   },
   "outputs": [
    {
     "data": {
      "text/html": [
       "<div>\n",
       "<style scoped>\n",
       "    .dataframe tbody tr th:only-of-type {\n",
       "        vertical-align: middle;\n",
       "    }\n",
       "\n",
       "    .dataframe tbody tr th {\n",
       "        vertical-align: top;\n",
       "    }\n",
       "\n",
       "    .dataframe thead th {\n",
       "        text-align: right;\n",
       "    }\n",
       "</style>\n",
       "<table border=\"1\" class=\"dataframe\">\n",
       "  <thead>\n",
       "    <tr style=\"text-align: right;\">\n",
       "      <th></th>\n",
       "      <th>Lista</th>\n",
       "      <th>Nucleótido en 20</th>\n",
       "      <th>G_20</th>\n",
       "      <th>Nucleótido en 21</th>\n",
       "      <th>C_21</th>\n",
       "      <th>Número de A</th>\n",
       "      <th>Porcentaje de G y C</th>\n",
       "      <th>Contenido de GC</th>\n",
       "      <th>Nucleótido en 18</th>\n",
       "      <th>C_18</th>\n",
       "      <th>Nucleótido en 16</th>\n",
       "      <th>C_16</th>\n",
       "      <th>modFreq</th>\n",
       "    </tr>\n",
       "  </thead>\n",
       "  <tbody>\n",
       "    <tr>\n",
       "      <th>0</th>\n",
       "      <td>GGCTGCTTTACCCGCTGTGGGGG</td>\n",
       "      <td>G</td>\n",
       "      <td>1</td>\n",
       "      <td>G</td>\n",
       "      <td>0</td>\n",
       "      <td>1</td>\n",
       "      <td>0.695652</td>\n",
       "      <td>0</td>\n",
       "      <td>T</td>\n",
       "      <td>0</td>\n",
       "      <td>T</td>\n",
       "      <td>0</td>\n",
       "      <td>0.874864</td>\n",
       "    </tr>\n",
       "    <tr>\n",
       "      <th>1</th>\n",
       "      <td>TCCGGGTTGGCCTTCCACTGGGG</td>\n",
       "      <td>G</td>\n",
       "      <td>1</td>\n",
       "      <td>G</td>\n",
       "      <td>0</td>\n",
       "      <td>1</td>\n",
       "      <td>0.695652</td>\n",
       "      <td>0</td>\n",
       "      <td>C</td>\n",
       "      <td>1</td>\n",
       "      <td>C</td>\n",
       "      <td>1</td>\n",
       "      <td>0.871393</td>\n",
       "    </tr>\n",
       "    <tr>\n",
       "      <th>2</th>\n",
       "      <td>CAGCATCCTTCGGAAAGCTCTGG</td>\n",
       "      <td>C</td>\n",
       "      <td>0</td>\n",
       "      <td>T</td>\n",
       "      <td>0</td>\n",
       "      <td>5</td>\n",
       "      <td>0.565217</td>\n",
       "      <td>1</td>\n",
       "      <td>C</td>\n",
       "      <td>1</td>\n",
       "      <td>A</td>\n",
       "      <td>0</td>\n",
       "      <td>0.860592</td>\n",
       "    </tr>\n",
       "    <tr>\n",
       "      <th>3</th>\n",
       "      <td>CGGTAGAAGCAGGTAGTCTGGGG</td>\n",
       "      <td>G</td>\n",
       "      <td>1</td>\n",
       "      <td>G</td>\n",
       "      <td>0</td>\n",
       "      <td>5</td>\n",
       "      <td>0.608696</td>\n",
       "      <td>0</td>\n",
       "      <td>C</td>\n",
       "      <td>1</td>\n",
       "      <td>G</td>\n",
       "      <td>0</td>\n",
       "      <td>0.802276</td>\n",
       "    </tr>\n",
       "    <tr>\n",
       "      <th>4</th>\n",
       "      <td>CATCCCGCTGCCCCAGTGGAAGG</td>\n",
       "      <td>A</td>\n",
       "      <td>0</td>\n",
       "      <td>A</td>\n",
       "      <td>0</td>\n",
       "      <td>4</td>\n",
       "      <td>0.695652</td>\n",
       "      <td>0</td>\n",
       "      <td>G</td>\n",
       "      <td>0</td>\n",
       "      <td>G</td>\n",
       "      <td>0</td>\n",
       "      <td>0.796638</td>\n",
       "    </tr>\n",
       "  </tbody>\n",
       "</table>\n",
       "</div>"
      ],
      "text/plain": [
       "                     Lista Nucleótido en 20  G_20 Nucleótido en 21  C_21  \\\n",
       "0  GGCTGCTTTACCCGCTGTGGGGG                G     1                G     0   \n",
       "1  TCCGGGTTGGCCTTCCACTGGGG                G     1                G     0   \n",
       "2  CAGCATCCTTCGGAAAGCTCTGG                C     0                T     0   \n",
       "3  CGGTAGAAGCAGGTAGTCTGGGG                G     1                G     0   \n",
       "4  CATCCCGCTGCCCCAGTGGAAGG                A     0                A     0   \n",
       "\n",
       "   Número de A  Porcentaje de G y C  Contenido de GC Nucleótido en 18  C_18  \\\n",
       "0            1             0.695652                0                T     0   \n",
       "1            1             0.695652                0                C     1   \n",
       "2            5             0.565217                1                C     1   \n",
       "3            5             0.608696                0                C     1   \n",
       "4            4             0.695652                0                G     0   \n",
       "\n",
       "  Nucleótido en 16  C_16   modFreq  \n",
       "0                T     0  0.874864  \n",
       "1                C     1  0.871393  \n",
       "2                A     0  0.860592  \n",
       "3                G     0  0.802276  \n",
       "4                G     0  0.796638  "
      ]
     },
     "execution_count": 17,
     "metadata": {},
     "output_type": "execute_result"
    }
   ],
   "source": [
    "base = pd.DataFrame({\"Lista\":lista,\n",
    "              \"Nucleótido en 20\":num_20,\n",
    "              \"G_20\": num_20_bool,\n",
    "              \"Nucleótido en 21\":num_21,\n",
    "              \"C_21\":num_21_bool,\n",
    "              \"Número de A\":num_a,\n",
    "              \"Porcentaje de G y C\": por_g_mas_c,\n",
    "              \"Contenido de GC\":con_gc,\n",
    "              \"Nucleótido en 18\":num_18,\n",
    "              \"C_18\":num_18_bool,\n",
    "              \"Nucleótido en 16\":num_16,\n",
    "              \"C_16\":num_16_bool,\n",
    "              \"modFreq\":df.modFreq})\n",
    "\n",
    "base.head()"
   ]
  },
  {
   "cell_type": "markdown",
   "metadata": {
    "id": "ejFEkJkWO3P0"
   },
   "source": [
    "### We wil not be using the columns \"Nucleotide in 20\", \"Nucleotide in 21\", \"Nucleotide in 18\" and \"Nucleotide in 16\" so we drop them"
   ]
  },
  {
   "cell_type": "code",
   "execution_count": 18,
   "metadata": {
    "colab": {
     "base_uri": "https://localhost:8080/",
     "height": 520
    },
    "id": "6yJ0dSdbtJy5",
    "outputId": "7ee662b4-8961-4bc5-c668-3b66ef62091f"
   },
   "outputs": [
    {
     "data": {
      "text/html": [
       "<div>\n",
       "<style scoped>\n",
       "    .dataframe tbody tr th:only-of-type {\n",
       "        vertical-align: middle;\n",
       "    }\n",
       "\n",
       "    .dataframe tbody tr th {\n",
       "        vertical-align: top;\n",
       "    }\n",
       "\n",
       "    .dataframe thead th {\n",
       "        text-align: right;\n",
       "    }\n",
       "</style>\n",
       "<table border=\"1\" class=\"dataframe\">\n",
       "  <thead>\n",
       "    <tr style=\"text-align: right;\">\n",
       "      <th></th>\n",
       "      <th>Lista</th>\n",
       "      <th>G_20</th>\n",
       "      <th>C_21</th>\n",
       "      <th>Número de A</th>\n",
       "      <th>Porcentaje de G y C</th>\n",
       "      <th>Contenido de GC</th>\n",
       "      <th>C_18</th>\n",
       "      <th>C_16</th>\n",
       "      <th>modFreq</th>\n",
       "    </tr>\n",
       "  </thead>\n",
       "  <tbody>\n",
       "    <tr>\n",
       "      <th>0</th>\n",
       "      <td>GGCTGCTTTACCCGCTGTGGGGG</td>\n",
       "      <td>1</td>\n",
       "      <td>0</td>\n",
       "      <td>1</td>\n",
       "      <td>0.695652</td>\n",
       "      <td>0</td>\n",
       "      <td>0</td>\n",
       "      <td>0</td>\n",
       "      <td>0.874864</td>\n",
       "    </tr>\n",
       "    <tr>\n",
       "      <th>1</th>\n",
       "      <td>TCCGGGTTGGCCTTCCACTGGGG</td>\n",
       "      <td>1</td>\n",
       "      <td>0</td>\n",
       "      <td>1</td>\n",
       "      <td>0.695652</td>\n",
       "      <td>0</td>\n",
       "      <td>1</td>\n",
       "      <td>1</td>\n",
       "      <td>0.871393</td>\n",
       "    </tr>\n",
       "    <tr>\n",
       "      <th>2</th>\n",
       "      <td>CAGCATCCTTCGGAAAGCTCTGG</td>\n",
       "      <td>0</td>\n",
       "      <td>0</td>\n",
       "      <td>5</td>\n",
       "      <td>0.565217</td>\n",
       "      <td>1</td>\n",
       "      <td>1</td>\n",
       "      <td>0</td>\n",
       "      <td>0.860592</td>\n",
       "    </tr>\n",
       "    <tr>\n",
       "      <th>3</th>\n",
       "      <td>CGGTAGAAGCAGGTAGTCTGGGG</td>\n",
       "      <td>1</td>\n",
       "      <td>0</td>\n",
       "      <td>5</td>\n",
       "      <td>0.608696</td>\n",
       "      <td>0</td>\n",
       "      <td>1</td>\n",
       "      <td>0</td>\n",
       "      <td>0.802276</td>\n",
       "    </tr>\n",
       "    <tr>\n",
       "      <th>4</th>\n",
       "      <td>CATCCCGCTGCCCCAGTGGAAGG</td>\n",
       "      <td>0</td>\n",
       "      <td>0</td>\n",
       "      <td>4</td>\n",
       "      <td>0.695652</td>\n",
       "      <td>0</td>\n",
       "      <td>0</td>\n",
       "      <td>0</td>\n",
       "      <td>0.796638</td>\n",
       "    </tr>\n",
       "  </tbody>\n",
       "</table>\n",
       "</div>"
      ],
      "text/plain": [
       "                     Lista  G_20  C_21  Número de A  Porcentaje de G y C  \\\n",
       "0  GGCTGCTTTACCCGCTGTGGGGG     1     0            1             0.695652   \n",
       "1  TCCGGGTTGGCCTTCCACTGGGG     1     0            1             0.695652   \n",
       "2  CAGCATCCTTCGGAAAGCTCTGG     0     0            5             0.565217   \n",
       "3  CGGTAGAAGCAGGTAGTCTGGGG     1     0            5             0.608696   \n",
       "4  CATCCCGCTGCCCCAGTGGAAGG     0     0            4             0.695652   \n",
       "\n",
       "   Contenido de GC  C_18  C_16   modFreq  \n",
       "0                0     0     0  0.874864  \n",
       "1                0     1     1  0.871393  \n",
       "2                1     1     0  0.860592  \n",
       "3                0     1     0  0.802276  \n",
       "4                0     0     0  0.796638  "
      ]
     },
     "execution_count": 18,
     "metadata": {},
     "output_type": "execute_result"
    }
   ],
   "source": [
    "base = base.drop(\"Nucleótido en 20\", axis = 1)\n",
    "base = base.drop(\"Nucleótido en 21\", axis = 1)\n",
    "base = base.drop(\"Nucleótido en 18\", axis = 1)\n",
    "base = base.drop(\"Nucleótido en 16\", axis = 1)\n",
    "\n",
    "base.head()"
   ]
  },
  {
   "cell_type": "code",
   "execution_count": 19,
   "metadata": {
    "id": "BHtCY_tS4-bc"
   },
   "outputs": [],
   "source": [
    "X = base[[\"G_20\", \"C_21\", \"Número de A\", \"Contenido de GC\", \"C_18\", \"C_16\"]]\n",
    "y = base[\"modFreq\"]"
   ]
  },
  {
   "cell_type": "code",
   "execution_count": 20,
   "metadata": {
    "id": "JYNH7w4W_IKY"
   },
   "outputs": [],
   "source": [
    "from sklearn.model_selection import train_test_split"
   ]
  },
  {
   "cell_type": "code",
   "execution_count": 21,
   "metadata": {
    "id": "da2mr-z4_nuz"
   },
   "outputs": [],
   "source": [
    "X_train, X_test, y_train, y_test = train_test_split(X, y)"
   ]
  },
  {
   "cell_type": "markdown",
   "metadata": {
    "id": "CZ3GOfqPPw_L"
   },
   "source": [
    "### Linear Regression"
   ]
  },
  {
   "cell_type": "code",
   "execution_count": 22,
   "metadata": {
    "id": "XY9o-OJa_x-I"
   },
   "outputs": [],
   "source": [
    "from sklearn.linear_model import LinearRegression"
   ]
  },
  {
   "cell_type": "code",
   "execution_count": null,
   "metadata": {},
   "outputs": [],
   "source": [
    "modelo = LinearRegression()\n",
    "modelo.fit(X_train, y_train)"
   ]
  },
  {
   "cell_type": "code",
   "execution_count": 24,
   "metadata": {
    "colab": {
     "base_uri": "https://localhost:8080/"
    },
    "id": "JCI8LyIx_6sB",
    "outputId": "4dc2fb6b-2c70-4661-d4dd-978a4d10a821"
   },
   "outputs": [
    {
     "data": {
      "text/plain": [
       "0.03960358524315999"
      ]
     },
     "execution_count": 24,
     "metadata": {},
     "output_type": "execute_result"
    }
   ],
   "source": [
    "modelo.score(X_test, y_test)"
   ]
  },
  {
   "cell_type": "markdown",
   "metadata": {
    "id": "JS0ANv4LP92l"
   },
   "source": [
    "### Ridge regularization"
   ]
  },
  {
   "cell_type": "code",
   "execution_count": 25,
   "metadata": {
    "id": "owiv1GczAErK"
   },
   "outputs": [],
   "source": [
    "from sklearn.linear_model import Ridge"
   ]
  },
  {
   "cell_type": "code",
   "execution_count": 26,
   "metadata": {
    "colab": {
     "base_uri": "https://localhost:8080/"
    },
    "id": "DIy64YPQv-25",
    "outputId": "8fa34691-45fe-4bb0-c05e-89224695556b"
   },
   "outputs": [
    {
     "data": {
      "text/html": [
       "<style>#sk-container-id-2 {color: black;background-color: white;}#sk-container-id-2 pre{padding: 0;}#sk-container-id-2 div.sk-toggleable {background-color: white;}#sk-container-id-2 label.sk-toggleable__label {cursor: pointer;display: block;width: 100%;margin-bottom: 0;padding: 0.3em;box-sizing: border-box;text-align: center;}#sk-container-id-2 label.sk-toggleable__label-arrow:before {content: \"▸\";float: left;margin-right: 0.25em;color: #696969;}#sk-container-id-2 label.sk-toggleable__label-arrow:hover:before {color: black;}#sk-container-id-2 div.sk-estimator:hover label.sk-toggleable__label-arrow:before {color: black;}#sk-container-id-2 div.sk-toggleable__content {max-height: 0;max-width: 0;overflow: hidden;text-align: left;background-color: #f0f8ff;}#sk-container-id-2 div.sk-toggleable__content pre {margin: 0.2em;color: black;border-radius: 0.25em;background-color: #f0f8ff;}#sk-container-id-2 input.sk-toggleable__control:checked~div.sk-toggleable__content {max-height: 200px;max-width: 100%;overflow: auto;}#sk-container-id-2 input.sk-toggleable__control:checked~label.sk-toggleable__label-arrow:before {content: \"▾\";}#sk-container-id-2 div.sk-estimator input.sk-toggleable__control:checked~label.sk-toggleable__label {background-color: #d4ebff;}#sk-container-id-2 div.sk-label input.sk-toggleable__control:checked~label.sk-toggleable__label {background-color: #d4ebff;}#sk-container-id-2 input.sk-hidden--visually {border: 0;clip: rect(1px 1px 1px 1px);clip: rect(1px, 1px, 1px, 1px);height: 1px;margin: -1px;overflow: hidden;padding: 0;position: absolute;width: 1px;}#sk-container-id-2 div.sk-estimator {font-family: monospace;background-color: #f0f8ff;border: 1px dotted black;border-radius: 0.25em;box-sizing: border-box;margin-bottom: 0.5em;}#sk-container-id-2 div.sk-estimator:hover {background-color: #d4ebff;}#sk-container-id-2 div.sk-parallel-item::after {content: \"\";width: 100%;border-bottom: 1px solid gray;flex-grow: 1;}#sk-container-id-2 div.sk-label:hover label.sk-toggleable__label {background-color: #d4ebff;}#sk-container-id-2 div.sk-serial::before {content: \"\";position: absolute;border-left: 1px solid gray;box-sizing: border-box;top: 0;bottom: 0;left: 50%;z-index: 0;}#sk-container-id-2 div.sk-serial {display: flex;flex-direction: column;align-items: center;background-color: white;padding-right: 0.2em;padding-left: 0.2em;position: relative;}#sk-container-id-2 div.sk-item {position: relative;z-index: 1;}#sk-container-id-2 div.sk-parallel {display: flex;align-items: stretch;justify-content: center;background-color: white;position: relative;}#sk-container-id-2 div.sk-item::before, #sk-container-id-2 div.sk-parallel-item::before {content: \"\";position: absolute;border-left: 1px solid gray;box-sizing: border-box;top: 0;bottom: 0;left: 50%;z-index: -1;}#sk-container-id-2 div.sk-parallel-item {display: flex;flex-direction: column;z-index: 1;position: relative;background-color: white;}#sk-container-id-2 div.sk-parallel-item:first-child::after {align-self: flex-end;width: 50%;}#sk-container-id-2 div.sk-parallel-item:last-child::after {align-self: flex-start;width: 50%;}#sk-container-id-2 div.sk-parallel-item:only-child::after {width: 0;}#sk-container-id-2 div.sk-dashed-wrapped {border: 1px dashed gray;margin: 0 0.4em 0.5em 0.4em;box-sizing: border-box;padding-bottom: 0.4em;background-color: white;}#sk-container-id-2 div.sk-label label {font-family: monospace;font-weight: bold;display: inline-block;line-height: 1.2em;}#sk-container-id-2 div.sk-label-container {text-align: center;}#sk-container-id-2 div.sk-container {/* jupyter's `normalize.less` sets `[hidden] { display: none; }` but bootstrap.min.css set `[hidden] { display: none !important; }` so we also need the `!important` here to be able to override the default hidden behavior on the sphinx rendered scikit-learn.org. See: https://github.com/scikit-learn/scikit-learn/issues/21755 */display: inline-block !important;position: relative;}#sk-container-id-2 div.sk-text-repr-fallback {display: none;}</style><div id=\"sk-container-id-2\" class=\"sk-top-container\"><div class=\"sk-text-repr-fallback\"><pre>Ridge(alpha=130.0)</pre><b>In a Jupyter environment, please rerun this cell to show the HTML representation or trust the notebook. <br />On GitHub, the HTML representation is unable to render, please try loading this page with nbviewer.org.</b></div><div class=\"sk-container\" hidden><div class=\"sk-item\"><div class=\"sk-estimator sk-toggleable\"><input class=\"sk-toggleable__control sk-hidden--visually\" id=\"sk-estimator-id-2\" type=\"checkbox\" checked><label for=\"sk-estimator-id-2\" class=\"sk-toggleable__label sk-toggleable__label-arrow\">Ridge</label><div class=\"sk-toggleable__content\"><pre>Ridge(alpha=130.0)</pre></div></div></div></div></div>"
      ],
      "text/plain": [
       "Ridge(alpha=130.0)"
      ]
     },
     "execution_count": 26,
     "metadata": {},
     "output_type": "execute_result"
    }
   ],
   "source": [
    "modelo1 = Ridge(alpha=130.0)\n",
    "modelo1.fit(X_train, y_train)"
   ]
  },
  {
   "cell_type": "code",
   "execution_count": 27,
   "metadata": {
    "colab": {
     "base_uri": "https://localhost:8080/"
    },
    "id": "IuHLCVx9wH6O",
    "outputId": "3337a7f0-e08b-4bbb-c3fd-2886f7aab593"
   },
   "outputs": [
    {
     "data": {
      "text/plain": [
       "0.03559779601115842"
      ]
     },
     "execution_count": 27,
     "metadata": {},
     "output_type": "execute_result"
    }
   ],
   "source": [
    "modelo1.score(X_test, y_test)"
   ]
  },
  {
   "cell_type": "markdown",
   "metadata": {
    "id": "a9r1PG_aQDxP"
   },
   "source": [
    "### Lasso Regularization"
   ]
  },
  {
   "cell_type": "code",
   "execution_count": 28,
   "metadata": {
    "id": "8MS6-3p4w-pF"
   },
   "outputs": [],
   "source": [
    "from sklearn.linear_model import Lasso"
   ]
  },
  {
   "cell_type": "code",
   "execution_count": 29,
   "metadata": {
    "colab": {
     "base_uri": "https://localhost:8080/"
    },
    "id": "6KKVowAKxJ8k",
    "outputId": "3aa95f9c-4755-4e62-e62a-759bf7b30741"
   },
   "outputs": [
    {
     "data": {
      "text/html": [
       "<style>#sk-container-id-3 {color: black;background-color: white;}#sk-container-id-3 pre{padding: 0;}#sk-container-id-3 div.sk-toggleable {background-color: white;}#sk-container-id-3 label.sk-toggleable__label {cursor: pointer;display: block;width: 100%;margin-bottom: 0;padding: 0.3em;box-sizing: border-box;text-align: center;}#sk-container-id-3 label.sk-toggleable__label-arrow:before {content: \"▸\";float: left;margin-right: 0.25em;color: #696969;}#sk-container-id-3 label.sk-toggleable__label-arrow:hover:before {color: black;}#sk-container-id-3 div.sk-estimator:hover label.sk-toggleable__label-arrow:before {color: black;}#sk-container-id-3 div.sk-toggleable__content {max-height: 0;max-width: 0;overflow: hidden;text-align: left;background-color: #f0f8ff;}#sk-container-id-3 div.sk-toggleable__content pre {margin: 0.2em;color: black;border-radius: 0.25em;background-color: #f0f8ff;}#sk-container-id-3 input.sk-toggleable__control:checked~div.sk-toggleable__content {max-height: 200px;max-width: 100%;overflow: auto;}#sk-container-id-3 input.sk-toggleable__control:checked~label.sk-toggleable__label-arrow:before {content: \"▾\";}#sk-container-id-3 div.sk-estimator input.sk-toggleable__control:checked~label.sk-toggleable__label {background-color: #d4ebff;}#sk-container-id-3 div.sk-label input.sk-toggleable__control:checked~label.sk-toggleable__label {background-color: #d4ebff;}#sk-container-id-3 input.sk-hidden--visually {border: 0;clip: rect(1px 1px 1px 1px);clip: rect(1px, 1px, 1px, 1px);height: 1px;margin: -1px;overflow: hidden;padding: 0;position: absolute;width: 1px;}#sk-container-id-3 div.sk-estimator {font-family: monospace;background-color: #f0f8ff;border: 1px dotted black;border-radius: 0.25em;box-sizing: border-box;margin-bottom: 0.5em;}#sk-container-id-3 div.sk-estimator:hover {background-color: #d4ebff;}#sk-container-id-3 div.sk-parallel-item::after {content: \"\";width: 100%;border-bottom: 1px solid gray;flex-grow: 1;}#sk-container-id-3 div.sk-label:hover label.sk-toggleable__label {background-color: #d4ebff;}#sk-container-id-3 div.sk-serial::before {content: \"\";position: absolute;border-left: 1px solid gray;box-sizing: border-box;top: 0;bottom: 0;left: 50%;z-index: 0;}#sk-container-id-3 div.sk-serial {display: flex;flex-direction: column;align-items: center;background-color: white;padding-right: 0.2em;padding-left: 0.2em;position: relative;}#sk-container-id-3 div.sk-item {position: relative;z-index: 1;}#sk-container-id-3 div.sk-parallel {display: flex;align-items: stretch;justify-content: center;background-color: white;position: relative;}#sk-container-id-3 div.sk-item::before, #sk-container-id-3 div.sk-parallel-item::before {content: \"\";position: absolute;border-left: 1px solid gray;box-sizing: border-box;top: 0;bottom: 0;left: 50%;z-index: -1;}#sk-container-id-3 div.sk-parallel-item {display: flex;flex-direction: column;z-index: 1;position: relative;background-color: white;}#sk-container-id-3 div.sk-parallel-item:first-child::after {align-self: flex-end;width: 50%;}#sk-container-id-3 div.sk-parallel-item:last-child::after {align-self: flex-start;width: 50%;}#sk-container-id-3 div.sk-parallel-item:only-child::after {width: 0;}#sk-container-id-3 div.sk-dashed-wrapped {border: 1px dashed gray;margin: 0 0.4em 0.5em 0.4em;box-sizing: border-box;padding-bottom: 0.4em;background-color: white;}#sk-container-id-3 div.sk-label label {font-family: monospace;font-weight: bold;display: inline-block;line-height: 1.2em;}#sk-container-id-3 div.sk-label-container {text-align: center;}#sk-container-id-3 div.sk-container {/* jupyter's `normalize.less` sets `[hidden] { display: none; }` but bootstrap.min.css set `[hidden] { display: none !important; }` so we also need the `!important` here to be able to override the default hidden behavior on the sphinx rendered scikit-learn.org. See: https://github.com/scikit-learn/scikit-learn/issues/21755 */display: inline-block !important;position: relative;}#sk-container-id-3 div.sk-text-repr-fallback {display: none;}</style><div id=\"sk-container-id-3\" class=\"sk-top-container\"><div class=\"sk-text-repr-fallback\"><pre>Lasso(alpha=10.0)</pre><b>In a Jupyter environment, please rerun this cell to show the HTML representation or trust the notebook. <br />On GitHub, the HTML representation is unable to render, please try loading this page with nbviewer.org.</b></div><div class=\"sk-container\" hidden><div class=\"sk-item\"><div class=\"sk-estimator sk-toggleable\"><input class=\"sk-toggleable__control sk-hidden--visually\" id=\"sk-estimator-id-3\" type=\"checkbox\" checked><label for=\"sk-estimator-id-3\" class=\"sk-toggleable__label sk-toggleable__label-arrow\">Lasso</label><div class=\"sk-toggleable__content\"><pre>Lasso(alpha=10.0)</pre></div></div></div></div></div>"
      ],
      "text/plain": [
       "Lasso(alpha=10.0)"
      ]
     },
     "execution_count": 29,
     "metadata": {},
     "output_type": "execute_result"
    }
   ],
   "source": [
    "modelo2 = Lasso(alpha=10.0)\n",
    "modelo2.fit(X_train, y_train)"
   ]
  },
  {
   "cell_type": "code",
   "execution_count": 30,
   "metadata": {
    "colab": {
     "base_uri": "https://localhost:8080/"
    },
    "id": "v67iZqIcxk5V",
    "outputId": "1579e64f-88de-4d5b-bb9d-3770f4e7f115"
   },
   "outputs": [
    {
     "data": {
      "text/plain": [
       "-0.004562944633035748"
      ]
     },
     "execution_count": 30,
     "metadata": {},
     "output_type": "execute_result"
    }
   ],
   "source": [
    "modelo2.score(X_test, y_test)"
   ]
  }
 ],
 "metadata": {
  "colab": {
   "provenance": []
  },
  "kernelspec": {
   "display_name": "Python 3 (ipykernel)",
   "language": "python",
   "name": "python3"
  },
  "language_info": {
   "codemirror_mode": {
    "name": "ipython",
    "version": 3
   },
   "file_extension": ".py",
   "mimetype": "text/x-python",
   "name": "python",
   "nbconvert_exporter": "python",
   "pygments_lexer": "ipython3",
   "version": "3.12.2"
  }
 },
 "nbformat": 4,
 "nbformat_minor": 4
}
